{
  "nbformat": 4,
  "nbformat_minor": 0,
  "metadata": {
    "colab": {
      "provenance": [],
      "collapsed_sections": [
        "HZH275gpbi6e",
        "GLeR6DurITbu",
        "d7iXtQK0IaGE"
      ],
      "authorship_tag": "ABX9TyMrahzEc4d2Cb0Br4vddrUV",
      "include_colab_link": true
    },
    "kernelspec": {
      "name": "python3",
      "display_name": "Python 3"
    },
    "language_info": {
      "name": "python"
    }
  },
  "cells": [
    {
      "cell_type": "markdown",
      "metadata": {
        "id": "view-in-github",
        "colab_type": "text"
      },
      "source": [
        "<a href=\"https://colab.research.google.com/github/Lucas-Di-Sessa/PMF/blob/main/An%C3%A1lise_fundamentalista.ipynb\" target=\"_parent\"><img src=\"https://colab.research.google.com/assets/colab-badge.svg\" alt=\"Open In Colab\"/></a>"
      ]
    },
    {
      "cell_type": "markdown",
      "source": [
        "# 1 Importação de dados"
      ],
      "metadata": {
        "id": "HZH275gpbi6e"
      }
    },
    {
      "cell_type": "code",
      "source": [
        "!pip install xlsxwriter"
      ],
      "metadata": {
        "colab": {
          "base_uri": "https://localhost:8080/"
        },
        "id": "O1i1-lVisxAL",
        "outputId": "5e5c0590-ce10-493b-fd7b-27690106df26"
      },
      "execution_count": 1,
      "outputs": [
        {
          "output_type": "stream",
          "name": "stdout",
          "text": [
            "Collecting xlsxwriter\n",
            "  Downloading XlsxWriter-3.2.2-py3-none-any.whl.metadata (2.8 kB)\n",
            "Downloading XlsxWriter-3.2.2-py3-none-any.whl (165 kB)\n",
            "\u001b[2K   \u001b[90m━━━━━━━━━━━━━━━━━━━━━━━━━━━━━━━━━━━━━━━━\u001b[0m \u001b[32m165.1/165.1 kB\u001b[0m \u001b[31m1.0 MB/s\u001b[0m eta \u001b[36m0:00:00\u001b[0m\n",
            "\u001b[?25hInstalling collected packages: xlsxwriter\n",
            "Successfully installed xlsxwriter-3.2.2\n"
          ]
        }
      ]
    },
    {
      "cell_type": "code",
      "source": [
        "import xlsxwriter\n",
        "import pandas as pd\n",
        "import numpy as np\n",
        "import requests\n",
        "import zipfile\n",
        "import io"
      ],
      "metadata": {
        "id": "8dCseaRss3q3"
      },
      "execution_count": 2,
      "outputs": []
    },
    {
      "cell_type": "markdown",
      "source": [
        "## 1.1 Dados cadastrais"
      ],
      "metadata": {
        "id": "GLeR6DurITbu"
      }
    },
    {
      "cell_type": "code",
      "source": [
        "link = 'https://dados.cvm.gov.br/dados/CIA_ABERTA/CAD/DADOS/cad_cia_aberta.csv'"
      ],
      "metadata": {
        "id": "rUdlF0-_CJOl"
      },
      "execution_count": 3,
      "outputs": []
    },
    {
      "cell_type": "code",
      "source": [
        "r = requests.get(link)"
      ],
      "metadata": {
        "id": "Hc6mbkTDCM0x"
      },
      "execution_count": 4,
      "outputs": []
    },
    {
      "cell_type": "code",
      "source": [
        "linhas = [i.strip().split(';') for i in r.text.split('\\n')]"
      ],
      "metadata": {
        "id": "yc2GWtuaCOUw"
      },
      "execution_count": 5,
      "outputs": []
    },
    {
      "cell_type": "code",
      "source": [
        "data = pd.DataFrame(linhas[1:], columns= linhas[0])"
      ],
      "metadata": {
        "id": "q9GjJDbdCaMt"
      },
      "execution_count": 6,
      "outputs": []
    },
    {
      "cell_type": "code",
      "source": [
        "data = data[data.SIT =='ATIVO']"
      ],
      "metadata": {
        "id": "yXJFbmdDCpMh"
      },
      "execution_count": 7,
      "outputs": []
    },
    {
      "cell_type": "code",
      "source": [
        "empresas = ['16292','24228','20338','20788']\n",
        "#Empresas do setor de alimentos"
      ],
      "metadata": {
        "id": "HHl387AkAiiK"
      },
      "execution_count": 11,
      "outputs": []
    },
    {
      "cell_type": "markdown",
      "source": [
        "## 1.2 Demonstrativos financeiros"
      ],
      "metadata": {
        "id": "d7iXtQK0IaGE"
      }
    },
    {
      "cell_type": "code",
      "source": [
        "demonstrativos = ['DRE','BPA','BPP','DFC_MD','DFC_MI']"
      ],
      "metadata": {
        "id": "CdrQfCoLGfrU"
      },
      "execution_count": 9,
      "outputs": []
    },
    {
      "cell_type": "code",
      "source": [
        "#Loop de demonstrativos\n",
        "\n",
        "import time\n",
        "start_time = time.time()\n",
        "\n",
        "lista_listas = []\n",
        "a = 0\n",
        "\n",
        "for j in empresas:\n",
        "  lista_df = []\n",
        "\n",
        "  for k in demonstrativos:\n",
        "\n",
        "    link = 'https://dados.cvm.gov.br/dados/CIA_ABERTA/DOC/DFP/DADOS/dfp_cia_aberta_2024.zip'\n",
        "    arquivo_zip = requests.get(link)\n",
        "    zf = zipfile.ZipFile(io.BytesIO(arquivo_zip.content))\n",
        "    arquivo = 'dfp_cia_aberta_' + str(k) + '_con_2024.csv'\n",
        "    dados = zf.open(arquivo)\n",
        "\n",
        "    linhas = dados.readlines()\n",
        "    lines = [i.strip().decode('ISO-8859-1') for i in linhas]\n",
        "    lines = [i.split(';') for i in lines]\n",
        "\n",
        "    df = pd.DataFrame(lines[1:], columns=lines[0])\n",
        "    df['VL_AJUSTADO'] = pd.to_numeric(df['VL_CONTA'])\n",
        "    filtro = df[df['CD_CVM'] == str(j).zfill(6)]\n",
        "    lista_df.append(filtro)\n",
        "    print(f'Trabalhando com a empresa {j} e seu demonstrativo {k}. As dimensões são {filtro.shape}')\n",
        "\n",
        "  lista_listas.append(lista_df)\n",
        "\n",
        "  # Utilizando a biblioteca xlsxwriter\n",
        "\n",
        "  writer = pd.ExcelWriter(f'Demonstrativos Empresa {str(j)}.xlsx', engine = 'xlsxwriter')\n",
        "\n",
        "  # Especificando o que esse arquivo vai conter\n",
        "\n",
        "  lista_listas[a][0].to_excel(writer, sheet_name= 'DRE')\n",
        "  lista_listas[a][1].to_excel(writer, sheet_name= 'BPA')\n",
        "  lista_listas[a][2].to_excel(writer, sheet_name= 'BPP')\n",
        "  lista_listas[a][3].to_excel(writer, sheet_name= 'DFC_MD')\n",
        "  lista_listas[a][4].to_excel(writer, sheet_name= 'DFC_MI')\n",
        "\n",
        "  a +=1\n",
        "\n",
        "  print(f'Arquivo Excel com os demostrativos da empresa {str(j)} já foi exportado. \\n')\n",
        "\n",
        "  #Fechar arquivo excel\n",
        "\n",
        "  writer.close()\n",
        "\n",
        "  print('O tempo de execução desse programa foi de %s segundos ---' %(time.time()-start_time))"
      ],
      "metadata": {
        "id": "XyDI9NqeEhPe"
      },
      "execution_count": null,
      "outputs": []
    },
    {
      "cell_type": "markdown",
      "source": [
        "# 2 Unificação de demonstrativos"
      ],
      "metadata": {
        "id": "SDqmLvZe7XNS"
      }
    },
    {
      "cell_type": "code",
      "source": [
        "!pip install investpy"
      ],
      "metadata": {
        "id": "iU9NSCpZ7pAg"
      },
      "execution_count": null,
      "outputs": []
    },
    {
      "cell_type": "code",
      "source": [
        "import plotly\n",
        "import investpy\n",
        "import os"
      ],
      "metadata": {
        "id": "tWQaVsgE7h6Q"
      },
      "execution_count": 17,
      "outputs": []
    },
    {
      "cell_type": "markdown",
      "source": [
        "## 2.1 Tabela DRE"
      ],
      "metadata": {
        "id": "Q5MSsLG27uCx"
      }
    },
    {
      "cell_type": "code",
      "source": [
        "caminho = os.getcwd()\n",
        "arquivos = os.listdir(caminho)\n",
        "arquivos"
      ],
      "metadata": {
        "colab": {
          "base_uri": "https://localhost:8080/"
        },
        "id": "mQhi8ics8Ft7",
        "outputId": "e3aa8262-705b-40d6-8ecc-e577ca796e12"
      },
      "execution_count": 18,
      "outputs": [
        {
          "output_type": "execute_result",
          "data": {
            "text/plain": [
              "['.config',\n",
              " 'Demonstrativos Empresa 24228.xlsx',\n",
              " '.ipynb_checkpoints',\n",
              " 'Demonstrativos Empresa 20338.xlsx',\n",
              " 'Demonstrativos Empresa 20788.xlsx',\n",
              " 'Demonstrativos Empresa 16292.xlsx',\n",
              " 'sample_data']"
            ]
          },
          "metadata": {},
          "execution_count": 18
        }
      ]
    },
    {
      "cell_type": "code",
      "source": [
        "arquivo_xls = [f for f in arquivos if f[-1] =='x']\n",
        "arquivo_xls"
      ],
      "metadata": {
        "colab": {
          "base_uri": "https://localhost:8080/"
        },
        "id": "sJdbIF8S8WJY",
        "outputId": "150bfaa0-8e29-4ad5-9f59-c68e3d2820a7"
      },
      "execution_count": 21,
      "outputs": [
        {
          "output_type": "execute_result",
          "data": {
            "text/plain": [
              "['Demonstrativos Empresa 24228.xlsx',\n",
              " 'Demonstrativos Empresa 20338.xlsx',\n",
              " 'Demonstrativos Empresa 20788.xlsx',\n",
              " 'Demonstrativos Empresa 16292.xlsx']"
            ]
          },
          "metadata": {},
          "execution_count": 21
        }
      ]
    },
    {
      "cell_type": "code",
      "source": [
        "dre = pd.DataFrame()"
      ],
      "metadata": {
        "id": "RjKNUR0k8svp"
      },
      "execution_count": 22,
      "outputs": []
    },
    {
      "cell_type": "code",
      "source": [
        "for f in arquivo_xls:\n",
        "  drexls = pd.read_excel(f, sheet_name = 'DRE')\n",
        "  dre = pd.concat([dre,drexls])"
      ],
      "metadata": {
        "id": "HC5RrjB58zbT"
      },
      "execution_count": 29,
      "outputs": []
    }
  ]
}