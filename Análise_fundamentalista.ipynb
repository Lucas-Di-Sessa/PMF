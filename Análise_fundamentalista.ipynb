{
  "nbformat": 4,
  "nbformat_minor": 0,
  "metadata": {
    "colab": {
      "provenance": [],
      "collapsed_sections": [
        "HZH275gpbi6e",
        "GLeR6DurITbu",
        "d7iXtQK0IaGE",
        "SDqmLvZe7XNS",
        "Q5MSsLG27uCx",
        "RfDxdM7Y1lS8",
        "XpwrKfRZ3RGI"
      ],
      "authorship_tag": "ABX9TyMSHTclHw9eFSVweBWkS69k",
      "include_colab_link": true
    },
    "kernelspec": {
      "name": "python3",
      "display_name": "Python 3"
    },
    "language_info": {
      "name": "python"
    }
  },
  "cells": [
    {
      "cell_type": "markdown",
      "metadata": {
        "id": "view-in-github",
        "colab_type": "text"
      },
      "source": [
        "<a href=\"https://colab.research.google.com/github/Lucas-Di-Sessa/PMF/blob/main/An%C3%A1lise_fundamentalista.ipynb\" target=\"_parent\"><img src=\"https://colab.research.google.com/assets/colab-badge.svg\" alt=\"Open In Colab\"/></a>"
      ]
    },
    {
      "cell_type": "markdown",
      "source": [
        "# 1 Importação de dados"
      ],
      "metadata": {
        "id": "HZH275gpbi6e"
      }
    },
    {
      "cell_type": "code",
      "source": [
        "!pip install xlsxwriter"
      ],
      "metadata": {
        "id": "O1i1-lVisxAL"
      },
      "execution_count": null,
      "outputs": []
    },
    {
      "cell_type": "code",
      "source": [
        "import xlsxwriter\n",
        "import pandas as pd\n",
        "import numpy as np\n",
        "import requests\n",
        "import zipfile\n",
        "import io"
      ],
      "metadata": {
        "id": "8dCseaRss3q3"
      },
      "execution_count": 2,
      "outputs": []
    },
    {
      "cell_type": "markdown",
      "source": [
        "## 1.1 Dados cadastrais"
      ],
      "metadata": {
        "id": "GLeR6DurITbu"
      }
    },
    {
      "cell_type": "code",
      "source": [
        "link = 'https://dados.cvm.gov.br/dados/CIA_ABERTA/CAD/DADOS/cad_cia_aberta.csv'"
      ],
      "metadata": {
        "id": "rUdlF0-_CJOl"
      },
      "execution_count": 3,
      "outputs": []
    },
    {
      "cell_type": "code",
      "source": [
        "r = requests.get(link)"
      ],
      "metadata": {
        "id": "Hc6mbkTDCM0x"
      },
      "execution_count": 4,
      "outputs": []
    },
    {
      "cell_type": "code",
      "source": [
        "linhas = [i.strip().split(';') for i in r.text.split('\\n')]"
      ],
      "metadata": {
        "id": "yc2GWtuaCOUw"
      },
      "execution_count": 5,
      "outputs": []
    },
    {
      "cell_type": "code",
      "source": [
        "data = pd.DataFrame(linhas[1:], columns= linhas[0])"
      ],
      "metadata": {
        "id": "q9GjJDbdCaMt"
      },
      "execution_count": 6,
      "outputs": []
    },
    {
      "cell_type": "code",
      "source": [
        "data = data[data.SIT =='ATIVO']"
      ],
      "metadata": {
        "id": "yXJFbmdDCpMh"
      },
      "execution_count": 7,
      "outputs": []
    },
    {
      "cell_type": "code",
      "source": [
        "empresas = ['16292','24228','20338','20788']\n",
        "#Empresas do setor de alimentos"
      ],
      "metadata": {
        "id": "HHl387AkAiiK"
      },
      "execution_count": 8,
      "outputs": []
    },
    {
      "cell_type": "markdown",
      "source": [
        "## 1.2 Demonstrativos financeiros"
      ],
      "metadata": {
        "id": "d7iXtQK0IaGE"
      }
    },
    {
      "cell_type": "code",
      "source": [
        "demonstrativos = ['DRE','BPA','BPP','DFC_MD','DFC_MI']"
      ],
      "metadata": {
        "id": "CdrQfCoLGfrU"
      },
      "execution_count": 9,
      "outputs": []
    },
    {
      "cell_type": "code",
      "source": [
        "#Loop de demonstrativos\n",
        "\n",
        "import time\n",
        "start_time = time.time()\n",
        "\n",
        "lista_listas = []\n",
        "a = 0\n",
        "\n",
        "for j in empresas:\n",
        "  lista_df = []\n",
        "\n",
        "  for k in demonstrativos:\n",
        "\n",
        "    link = 'https://dados.cvm.gov.br/dados/CIA_ABERTA/DOC/DFP/DADOS/dfp_cia_aberta_2024.zip'\n",
        "    arquivo_zip = requests.get(link)\n",
        "    zf = zipfile.ZipFile(io.BytesIO(arquivo_zip.content))\n",
        "    arquivo = 'dfp_cia_aberta_' + str(k) + '_con_2024.csv'\n",
        "    dados = zf.open(arquivo)\n",
        "\n",
        "    linhas = dados.readlines()\n",
        "    lines = [i.strip().decode('ISO-8859-1') for i in linhas]\n",
        "    lines = [i.split(';') for i in lines]\n",
        "\n",
        "    df = pd.DataFrame(lines[1:], columns=lines[0])\n",
        "    df['VL_AJUSTADO'] = pd.to_numeric(df['VL_CONTA'])\n",
        "    filtro = df[df['CD_CVM'] == str(j).zfill(6)]\n",
        "    lista_df.append(filtro)\n",
        "    print(f'Trabalhando com a empresa {j} e seu demonstrativo {k}. As dimensões são {filtro.shape}')\n",
        "\n",
        "  lista_listas.append(lista_df)\n",
        "\n",
        "  # Utilizando a biblioteca xlsxwriter\n",
        "\n",
        "  writer = pd.ExcelWriter(f'Demonstrativos Empresa {str(j)}.xlsx', engine = 'xlsxwriter')\n",
        "\n",
        "  # Especificando o que esse arquivo vai conter\n",
        "\n",
        "  lista_listas[a][0].to_excel(writer, sheet_name= 'DRE')\n",
        "  lista_listas[a][1].to_excel(writer, sheet_name= 'BPA')\n",
        "  lista_listas[a][2].to_excel(writer, sheet_name= 'BPP')\n",
        "  lista_listas[a][3].to_excel(writer, sheet_name= 'DFC_MD')\n",
        "  lista_listas[a][4].to_excel(writer, sheet_name= 'DFC_MI')\n",
        "\n",
        "  a +=1\n",
        "\n",
        "  print(f'Arquivo Excel com os demostrativos da empresa {str(j)} já foi exportado. \\n')\n",
        "\n",
        "  #Fechar arquivo excel\n",
        "\n",
        "  writer.close()\n",
        "\n",
        "  print('O tempo de execução desse programa foi de %s segundos ---' %(time.time()-start_time))"
      ],
      "metadata": {
        "id": "XyDI9NqeEhPe"
      },
      "execution_count": null,
      "outputs": []
    },
    {
      "cell_type": "markdown",
      "source": [
        "# 2 Unificação de demonstrativos"
      ],
      "metadata": {
        "id": "SDqmLvZe7XNS"
      }
    },
    {
      "cell_type": "code",
      "source": [
        "!pip install investpy"
      ],
      "metadata": {
        "id": "iU9NSCpZ7pAg"
      },
      "execution_count": null,
      "outputs": []
    },
    {
      "cell_type": "code",
      "source": [
        "import plotly\n",
        "import investpy\n",
        "import os"
      ],
      "metadata": {
        "id": "tWQaVsgE7h6Q"
      },
      "execution_count": 12,
      "outputs": []
    },
    {
      "cell_type": "markdown",
      "source": [
        "## 2.1 Tabela DRE"
      ],
      "metadata": {
        "id": "Q5MSsLG27uCx"
      }
    },
    {
      "cell_type": "code",
      "source": [
        "#Criar uma lista com o nome dos arquivos baixados na etapa 1.2\n",
        "\n",
        "caminho = os.getcwd()\n",
        "arquivos = os.listdir(caminho)\n",
        "arquivos"
      ],
      "metadata": {
        "id": "mQhi8ics8Ft7"
      },
      "execution_count": null,
      "outputs": []
    },
    {
      "cell_type": "code",
      "source": [
        "#Filtrar dentro da lista somente os arquivos que terminam com \"x\"\n",
        "\n",
        "arquivo_xls = [f for f in arquivos if f[-1] =='x']\n",
        "arquivo_xls"
      ],
      "metadata": {
        "id": "sJdbIF8S8WJY"
      },
      "execution_count": null,
      "outputs": []
    },
    {
      "cell_type": "code",
      "source": [
        "dre = pd.DataFrame()"
      ],
      "metadata": {
        "id": "RjKNUR0k8svp"
      },
      "execution_count": 18,
      "outputs": []
    },
    {
      "cell_type": "code",
      "source": [
        "#Juntar a DRE de todas as empresas em um arquivo só\n",
        "\n",
        "for f in arquivo_xls:\n",
        "  drexls = pd.read_excel(f, sheet_name = 'DRE')\n",
        "  dre = pd.concat([dre,drexls])"
      ],
      "metadata": {
        "id": "HC5RrjB58zbT"
      },
      "execution_count": 20,
      "outputs": []
    },
    {
      "cell_type": "code",
      "source": [
        "#Criar tabela dinâmica com os dados relevantes\n",
        "\n",
        "dre = pd.pivot_table(dre, index= ['DENOM_CIA','DS_CONTA'], columns = ['DT_INI_EXERC','DT_FIM_EXERC'], values = ['VL_AJUSTADO'])"
      ],
      "metadata": {
        "id": "w1P2eJnCzvx-"
      },
      "execution_count": 25,
      "outputs": []
    },
    {
      "cell_type": "markdown",
      "source": [
        "## 2.2 Tabela BPP"
      ],
      "metadata": {
        "id": "RfDxdM7Y1lS8"
      }
    },
    {
      "cell_type": "code",
      "source": [
        "#Criar uma lista com o nome dos arquivos baixados na etapa 1.2\n",
        "\n",
        "caminho = os.getcwd()\n",
        "arquivos = os.listdir(caminho)\n",
        "arquivos"
      ],
      "metadata": {
        "id": "a1gTJgv91lS9"
      },
      "execution_count": null,
      "outputs": []
    },
    {
      "cell_type": "code",
      "source": [
        "#Filtrar dentro da lista somente os arquivos que terminam com \"x\"\n",
        "\n",
        "arquivo_xls = [f for f in arquivos if f[-1] =='x']\n",
        "arquivo_xls"
      ],
      "metadata": {
        "id": "R7d_tsy21lS_"
      },
      "execution_count": null,
      "outputs": []
    },
    {
      "cell_type": "code",
      "source": [
        "bpp = pd.DataFrame()"
      ],
      "metadata": {
        "id": "UOvoN3nb1lS_"
      },
      "execution_count": 34,
      "outputs": []
    },
    {
      "cell_type": "code",
      "source": [
        "#Juntar o BPP de todas as empresas em um arquivo só\n",
        "\n",
        "for f in arquivo_xls:\n",
        "  bppxls = pd.read_excel(f, sheet_name = 'BPP')\n",
        "  bpp = pd.concat([bpp,bppxls])"
      ],
      "metadata": {
        "id": "pxqzAWw51lS_"
      },
      "execution_count": 35,
      "outputs": []
    },
    {
      "cell_type": "code",
      "source": [
        "#Criar tabela dinâmica com os dados relevantes\n",
        "\n",
        "bpp = pd.pivot_table(bpp, index= ['DENOM_CIA','DS_CONTA'], columns = ['DT_REFER','DT_FIM_EXERC'], values = ['VL_AJUSTADO'])"
      ],
      "metadata": {
        "id": "MaSEA6HE1lS_"
      },
      "execution_count": 42,
      "outputs": []
    },
    {
      "cell_type": "markdown",
      "source": [
        "## 2.3 Tabela BPA"
      ],
      "metadata": {
        "id": "XpwrKfRZ3RGI"
      }
    },
    {
      "cell_type": "code",
      "source": [
        "#Criar uma lista com o nome dos arquivos baixados na etapa 1.2\n",
        "\n",
        "caminho = os.getcwd()\n",
        "arquivos = os.listdir(caminho)\n",
        "arquivos"
      ],
      "metadata": {
        "id": "RXpPESDA3RGJ"
      },
      "execution_count": null,
      "outputs": []
    },
    {
      "cell_type": "code",
      "source": [
        "#Filtrar dentro da lista somente os arquivos que terminam com \"x\"\n",
        "\n",
        "arquivo_xls = [f for f in arquivos if f[-1] =='x']\n",
        "arquivo_xls"
      ],
      "metadata": {
        "id": "FrrVRw_c3RGJ"
      },
      "execution_count": null,
      "outputs": []
    },
    {
      "cell_type": "code",
      "source": [
        "bpa = pd.DataFrame()"
      ],
      "metadata": {
        "id": "ab-XqqRt3RGJ"
      },
      "execution_count": 45,
      "outputs": []
    },
    {
      "cell_type": "code",
      "source": [
        "#Juntar o BPP de todas as empresas em um arquivo só\n",
        "\n",
        "for f in arquivo_xls:\n",
        "  bpaxls = pd.read_excel(f, sheet_name = 'BPA')\n",
        "  bpa = pd.concat([bpa,bpaxls])"
      ],
      "metadata": {
        "id": "Bnb1EE7I3RGJ"
      },
      "execution_count": 46,
      "outputs": []
    },
    {
      "cell_type": "code",
      "source": [
        "#Criar tabela dinâmica com os dados relevantes\n",
        "\n",
        "bpa = pd.pivot_table(bpa, index= ['DENOM_CIA','DS_CONTA'], columns = ['DT_REFER','DT_FIM_EXERC'], values = ['VL_AJUSTADO'])"
      ],
      "metadata": {
        "id": "a9SNvKyx3RGK"
      },
      "execution_count": 47,
      "outputs": []
    }
  ]
}