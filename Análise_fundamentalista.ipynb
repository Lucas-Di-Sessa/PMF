{
  "nbformat": 4,
  "nbformat_minor": 0,
  "metadata": {
    "colab": {
      "provenance": [],
      "authorship_tag": "ABX9TyM0nsWWUm4MnVjj416FsNpW",
      "include_colab_link": true
    },
    "kernelspec": {
      "name": "python3",
      "display_name": "Python 3"
    },
    "language_info": {
      "name": "python"
    }
  },
  "cells": [
    {
      "cell_type": "markdown",
      "metadata": {
        "id": "view-in-github",
        "colab_type": "text"
      },
      "source": [
        "<a href=\"https://colab.research.google.com/github/Lucas-Di-Sessa/PMF/blob/main/An%C3%A1lise_fundamentalista.ipynb\" target=\"_parent\"><img src=\"https://colab.research.google.com/assets/colab-badge.svg\" alt=\"Open In Colab\"/></a>"
      ]
    },
    {
      "cell_type": "code",
      "execution_count": 30,
      "metadata": {
        "id": "AEf7YEaWCCMx"
      },
      "outputs": [],
      "source": [
        "import pandas as pd\n",
        "import numpy as np\n",
        "import requests\n",
        "import zipfile\n",
        "import io"
      ]
    },
    {
      "cell_type": "code",
      "source": [
        "!pip install xlsxwriter"
      ],
      "metadata": {
        "colab": {
          "base_uri": "https://localhost:8080/"
        },
        "id": "O1i1-lVisxAL",
        "outputId": "ad6d3763-ad58-46d3-8b81-262c106b4546"
      },
      "execution_count": 31,
      "outputs": [
        {
          "output_type": "stream",
          "name": "stdout",
          "text": [
            "Requirement already satisfied: xlsxwriter in /usr/local/lib/python3.11/dist-packages (3.2.2)\n"
          ]
        }
      ]
    },
    {
      "cell_type": "code",
      "source": [
        "import xlsxwriter"
      ],
      "metadata": {
        "id": "8dCseaRss3q3"
      },
      "execution_count": 32,
      "outputs": []
    },
    {
      "cell_type": "markdown",
      "source": [
        "# Dados cadastrais"
      ],
      "metadata": {
        "id": "GLeR6DurITbu"
      }
    },
    {
      "cell_type": "code",
      "source": [
        "link = 'https://dados.cvm.gov.br/dados/CIA_ABERTA/CAD/DADOS/cad_cia_aberta.csv'"
      ],
      "metadata": {
        "id": "rUdlF0-_CJOl"
      },
      "execution_count": 33,
      "outputs": []
    },
    {
      "cell_type": "code",
      "source": [
        "r = requests.get(link)"
      ],
      "metadata": {
        "id": "Hc6mbkTDCM0x"
      },
      "execution_count": 34,
      "outputs": []
    },
    {
      "cell_type": "code",
      "source": [
        "linhas = [i.strip().split(';') for i in r.text.split('\\n')]"
      ],
      "metadata": {
        "id": "yc2GWtuaCOUw"
      },
      "execution_count": 35,
      "outputs": []
    },
    {
      "cell_type": "code",
      "source": [
        "data = pd.DataFrame(linhas[1:], columns= linhas[0])"
      ],
      "metadata": {
        "id": "q9GjJDbdCaMt"
      },
      "execution_count": null,
      "outputs": []
    },
    {
      "cell_type": "code",
      "source": [
        "data = data[data.SIT =='ATIVO']"
      ],
      "metadata": {
        "id": "yXJFbmdDCpMh"
      },
      "execution_count": null,
      "outputs": []
    },
    {
      "cell_type": "code",
      "source": [
        "empresas = ['12319','25704','16292','24228','4693','1570','23574','20575','13285','20338','20788','20931','13765','24317']\n",
        "#Empresas do setor de alimentos"
      ],
      "metadata": {
        "id": "HHl387AkAiiK"
      },
      "execution_count": 38,
      "outputs": []
    },
    {
      "cell_type": "markdown",
      "source": [
        "# Demonstrativos financeiros"
      ],
      "metadata": {
        "id": "d7iXtQK0IaGE"
      }
    },
    {
      "cell_type": "code",
      "source": [
        "demonstrativos = ['DRE','BPA','BPP','DFC_MD','DFC_MI']"
      ],
      "metadata": {
        "id": "CdrQfCoLGfrU"
      },
      "execution_count": null,
      "outputs": []
    },
    {
      "cell_type": "code",
      "source": [
        "#Loop de demonstrativos\n",
        "\n",
        "import time\n",
        "start_time = time.time()\n",
        "\n",
        "lista_listas = []\n",
        "a = 0\n",
        "\n",
        "for j in empresas:\n",
        "  lista_df = []\n",
        "\n",
        "  for k in demonstrativos:\n",
        "\n",
        "    link = 'https://dados.cvm.gov.br/dados/CIA_ABERTA/DOC/DFP/DADOS/dfp_cia_aberta_2024.zip'\n",
        "    arquivo_zip = requests.get(link)\n",
        "    zf = zipfile.ZipFile(io.BytesIO(arquivo_zip.content))\n",
        "    arquivo = 'dfp_cia_aberta_' + str(k) + '_con_2024.csv'\n",
        "    dados = zf.open(arquivo)\n",
        "\n",
        "    linhas = dados.readlines()\n",
        "    lines = [i.strip().decode('ISO-8859-1') for i in linhas]\n",
        "    lines = [i.split(';') for i in lines]\n",
        "\n",
        "    df = pd.DataFrame(lines[1:], columns=lines[0])\n",
        "    df['VL_AJUSTADO'] = pd.to_numeric(df['VL_CONTA'])\n",
        "    filtro = df[df['CD_CVM'] == str(j).zfill(6)]\n",
        "    lista_df.append(filtro)\n",
        "    print(f'Trabalhando com a empresa {j} e seu demonstrativo {k}. As dimensões são {filtro.shape}')\n",
        "\n",
        "  lista_listas.append(lista_df)\n",
        "\n",
        "  # Utilizando a biblioteca xlsxwriter\n",
        "\n",
        "  writer = pd.ExcelWriter(f'Demonstrativos Empresa {str(j)}.xlsx', engine = 'xlsxwriter')\n",
        "\n",
        "  # Especificando o que esse arquivo vai conter\n",
        "\n",
        "  lista_listas[a][0].to_excel(writer, sheet_name= 'DRE')\n",
        "  lista_listas[a][1].to_excel(writer, sheet_name= 'BPA')\n",
        "  lista_listas[a][2].to_excel(writer, sheet_name= 'BPP')\n",
        "  lista_listas[a][3].to_excel(writer, sheet_name= 'DFC_MD')\n",
        "  lista_listas[a][4].to_excel(writer, sheet_name= 'DFC_MI')\n",
        "\n",
        "  a +=1\n",
        "\n",
        "  print(f'Arquivo Excel com os demostrativos da empresa {str(j)} já foi exportado. \\n')\n",
        "\n",
        "  #Fechar arquivo excel\n",
        "\n",
        "  writer.close()\n",
        "\n",
        "  print('O tempo de execução desse programa foi de %s segundos ---' %(time.time()-start_time))"
      ],
      "metadata": {
        "id": "XyDI9NqeEhPe"
      },
      "execution_count": null,
      "outputs": []
    }
  ]
}